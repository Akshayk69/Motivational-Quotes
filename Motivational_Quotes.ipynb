{
 "cells": [
  {
   "cell_type": "code",
   "execution_count": 13,
   "metadata": {},
   "outputs": [],
   "source": [
    "import numpy as np\n",
    "import pandas as pd\n",
    "import requests\n",
    "from bs4 import BeautifulSoup\n",
    "from tqdm import tqdm"
   ]
  },
  {
   "cell_type": "code",
   "execution_count": 14,
   "metadata": {},
   "outputs": [],
   "source": [
    "url='https://www.goodreads.com/quotes/tag/motivational?page={}'"
   ]
  },
  {
   "cell_type": "code",
   "execution_count": 18,
   "metadata": {},
   "outputs": [],
   "source": [
    "def quotes(soup):\n",
    "    tags=[]\n",
    "    lst=[i.text.strip() for i in (soup.find_all('span',class_='authorOrTitle'))]\n",
    "    quotes=[list(i)[0].strip() for i in soup.find_all('div',class_='quoteText')]\n",
    "    likes=[int(i.text.split()[0]) for i in soup.find_all('a',class_='smallText')]\n",
    "    for i in box:\n",
    "        try:\n",
    "            tag=i.find('div',class_='greyText smallText left').text.split()[1:]\n",
    "        except:\n",
    "            tag=None\n",
    "        tags.append(tag)\n",
    "    return pd.DataFrame({'Author':lst,'Quotes':quotes,'Likes':likes,'Tags':tags})"
   ]
  },
  {
   "cell_type": "code",
   "execution_count": 19,
   "metadata": {},
   "outputs": [
    {
     "name": "stderr",
     "output_type": "stream",
     "text": [
      "100%|████████████████████████████████████████████████████████████████████████████████| 100/100 [03:07<00:00,  1.87s/it]\n"
     ]
    }
   ],
   "source": [
    "tables=[]\n",
    "for i in tqdm(range(1,101)):\n",
    "    urls=url.format(i)\n",
    "    html_good=requests.get(urls).text\n",
    "    soup=BeautifulSoup(html_good,'html.parser')\n",
    "    box=soup.find_all('div',class_='quoteDetails')\n",
    "    tables.append(quotes(soup))"
   ]
  },
  {
   "cell_type": "code",
   "execution_count": 20,
   "metadata": {},
   "outputs": [],
   "source": [
    "motivational_quotes=pd.concat(tables,axis=0)"
   ]
  },
  {
   "cell_type": "code",
   "execution_count": 21,
   "metadata": {},
   "outputs": [],
   "source": [
    "motivational_quotes.to_csv('motivational_quotes.csv')"
   ]
  },
  {
   "cell_type": "code",
   "execution_count": 22,
   "metadata": {},
   "outputs": [
    {
     "data": {
      "text/html": [
       "<div>\n",
       "<style scoped>\n",
       "    .dataframe tbody tr th:only-of-type {\n",
       "        vertical-align: middle;\n",
       "    }\n",
       "\n",
       "    .dataframe tbody tr th {\n",
       "        vertical-align: top;\n",
       "    }\n",
       "\n",
       "    .dataframe thead th {\n",
       "        text-align: right;\n",
       "    }\n",
       "</style>\n",
       "<table border=\"1\" class=\"dataframe\">\n",
       "  <thead>\n",
       "    <tr style=\"text-align: right;\">\n",
       "      <th></th>\n",
       "      <th>Unnamed: 0</th>\n",
       "      <th>Author</th>\n",
       "      <th>Quotes</th>\n",
       "      <th>Likes</th>\n",
       "      <th>Tags</th>\n",
       "    </tr>\n",
       "  </thead>\n",
       "  <tbody>\n",
       "    <tr>\n",
       "      <th>0</th>\n",
       "      <td>0</td>\n",
       "      <td>Frank Herbert,</td>\n",
       "      <td>“I must not fear. Fear is the mind-killer. Fea...</td>\n",
       "      <td>12773</td>\n",
       "      <td>['bene-gesserit,', 'fear,', 'litany-against-fe...</td>\n",
       "    </tr>\n",
       "    <tr>\n",
       "      <th>1</th>\n",
       "      <td>1</td>\n",
       "      <td>Roy T. Bennett,</td>\n",
       "      <td>“Attitude is a choice. Happiness is a choice. ...</td>\n",
       "      <td>9050</td>\n",
       "      <td>['attitude,', 'choice,', 'giving,', 'happiness...</td>\n",
       "    </tr>\n",
       "    <tr>\n",
       "      <th>2</th>\n",
       "      <td>2</td>\n",
       "      <td>Roy T. Bennett,</td>\n",
       "      <td>“Don't be pushed around by the fears in your m...</td>\n",
       "      <td>8321</td>\n",
       "      <td>['dreams,', 'fearless,', 'heart,', 'inspiratio...</td>\n",
       "    </tr>\n",
       "    <tr>\n",
       "      <th>3</th>\n",
       "      <td>3</td>\n",
       "      <td>Roy T. Bennett,</td>\n",
       "      <td>“Live the Life of Your Dreams: Be brave enough...</td>\n",
       "      <td>6125</td>\n",
       "      <td>['brave,', 'courage,', 'dreams,', 'inspiration...</td>\n",
       "    </tr>\n",
       "    <tr>\n",
       "      <th>4</th>\n",
       "      <td>4</td>\n",
       "      <td>Roy T. Bennett,</td>\n",
       "      <td>“Believe in yourself. You are braver than you ...</td>\n",
       "      <td>6071</td>\n",
       "      <td>['achievement,', 'believe-in-yourself,', 'brav...</td>\n",
       "    </tr>\n",
       "    <tr>\n",
       "      <th>...</th>\n",
       "      <td>...</td>\n",
       "      <td>...</td>\n",
       "      <td>...</td>\n",
       "      <td>...</td>\n",
       "      <td>...</td>\n",
       "    </tr>\n",
       "    <tr>\n",
       "      <th>2995</th>\n",
       "      <td>25</td>\n",
       "      <td>Rajen Jani,</td>\n",
       "      <td>“A Brahmin is like a tree, whose roots are the...</td>\n",
       "      <td>0</td>\n",
       "      <td>['aphorisms,', 'inspirational,', 'life-lessons...</td>\n",
       "    </tr>\n",
       "    <tr>\n",
       "      <th>2996</th>\n",
       "      <td>26</td>\n",
       "      <td>Rajen Jani,</td>\n",
       "      <td>“In a single tree reside various coloured bird...</td>\n",
       "      <td>0</td>\n",
       "      <td>['aphorisms,', 'inspirational,', 'life-lessons...</td>\n",
       "    </tr>\n",
       "    <tr>\n",
       "      <th>2997</th>\n",
       "      <td>27</td>\n",
       "      <td>Rajen Jani,</td>\n",
       "      <td>“The intelligent is strong, how can the uninte...</td>\n",
       "      <td>0</td>\n",
       "      <td>['aphorisms,', 'inspirational,', 'life-lessons...</td>\n",
       "    </tr>\n",
       "    <tr>\n",
       "      <th>2998</th>\n",
       "      <td>28</td>\n",
       "      <td>Rajen Jani,</td>\n",
       "      <td>“What worry have I for my maintenance, if Hari...</td>\n",
       "      <td>0</td>\n",
       "      <td>['aphorisms,', 'inspirational,', 'life-lessons...</td>\n",
       "    </tr>\n",
       "    <tr>\n",
       "      <th>2999</th>\n",
       "      <td>29</td>\n",
       "      <td>Rajen Jani,</td>\n",
       "      <td>“Although Sanskrit language has a special inte...</td>\n",
       "      <td>0</td>\n",
       "      <td>['aphorisms,', 'inspirational,', 'life-lessons...</td>\n",
       "    </tr>\n",
       "  </tbody>\n",
       "</table>\n",
       "<p>3000 rows × 5 columns</p>\n",
       "</div>"
      ],
      "text/plain": [
       "      Unnamed: 0           Author  \\\n",
       "0              0   Frank Herbert,   \n",
       "1              1  Roy T. Bennett,   \n",
       "2              2  Roy T. Bennett,   \n",
       "3              3  Roy T. Bennett,   \n",
       "4              4  Roy T. Bennett,   \n",
       "...          ...              ...   \n",
       "2995          25      Rajen Jani,   \n",
       "2996          26      Rajen Jani,   \n",
       "2997          27      Rajen Jani,   \n",
       "2998          28      Rajen Jani,   \n",
       "2999          29      Rajen Jani,   \n",
       "\n",
       "                                                 Quotes  Likes  \\\n",
       "0     “I must not fear. Fear is the mind-killer. Fea...  12773   \n",
       "1     “Attitude is a choice. Happiness is a choice. ...   9050   \n",
       "2     “Don't be pushed around by the fears in your m...   8321   \n",
       "3     “Live the Life of Your Dreams: Be brave enough...   6125   \n",
       "4     “Believe in yourself. You are braver than you ...   6071   \n",
       "...                                                 ...    ...   \n",
       "2995  “A Brahmin is like a tree, whose roots are the...      0   \n",
       "2996  “In a single tree reside various coloured bird...      0   \n",
       "2997  “The intelligent is strong, how can the uninte...      0   \n",
       "2998  “What worry have I for my maintenance, if Hari...      0   \n",
       "2999  “Although Sanskrit language has a special inte...      0   \n",
       "\n",
       "                                                   Tags  \n",
       "0     ['bene-gesserit,', 'fear,', 'litany-against-fe...  \n",
       "1     ['attitude,', 'choice,', 'giving,', 'happiness...  \n",
       "2     ['dreams,', 'fearless,', 'heart,', 'inspiratio...  \n",
       "3     ['brave,', 'courage,', 'dreams,', 'inspiration...  \n",
       "4     ['achievement,', 'believe-in-yourself,', 'brav...  \n",
       "...                                                 ...  \n",
       "2995  ['aphorisms,', 'inspirational,', 'life-lessons...  \n",
       "2996  ['aphorisms,', 'inspirational,', 'life-lessons...  \n",
       "2997  ['aphorisms,', 'inspirational,', 'life-lessons...  \n",
       "2998  ['aphorisms,', 'inspirational,', 'life-lessons...  \n",
       "2999  ['aphorisms,', 'inspirational,', 'life-lessons...  \n",
       "\n",
       "[3000 rows x 5 columns]"
      ]
     },
     "execution_count": 22,
     "metadata": {},
     "output_type": "execute_result"
    }
   ],
   "source": [
    "pd.read_csv('motivational_quotes.csv')"
   ]
  },
  {
   "cell_type": "code",
   "execution_count": null,
   "metadata": {},
   "outputs": [],
   "source": []
  }
 ],
 "metadata": {
  "kernelspec": {
   "display_name": "Python 3",
   "language": "python",
   "name": "python3"
  },
  "language_info": {
   "codemirror_mode": {
    "name": "ipython",
    "version": 3
   },
   "file_extension": ".py",
   "mimetype": "text/x-python",
   "name": "python",
   "nbconvert_exporter": "python",
   "pygments_lexer": "ipython3",
   "version": "3.8.5"
  }
 },
 "nbformat": 4,
 "nbformat_minor": 4
}
